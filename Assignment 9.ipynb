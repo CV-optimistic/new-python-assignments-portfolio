{
 "cells": [
  {
   "cell_type": "code",
   "execution_count": 13,
   "id": "89b374af",
   "metadata": {},
   "outputs": [
    {
     "name": "stdout",
     "output_type": "stream",
     "text": [
      "cos(y)\n",
      "2*x\n",
      "very convenient!\n"
     ]
    }
   ],
   "source": [
    "\n",
    "import sympy as sp\n",
    "import numpy as np\n",
    "import matplotlib.pyplot as plt\n",
    "\n",
    "x, y = sp.symbols('x y')\n",
    "\n",
    "# Define a function\n",
    "f = x**2 + sp.sin(y)\n",
    "\n",
    "# Differentiate f with respect to x\n",
    "df_dx = sp.diff(f, x)\n",
    "\n",
    "# Differentiate f with respect to y\n",
    "df_dy = sp.diff(f, y)\n",
    "\n",
    "print(df_dy)\n",
    "print(df_dx)\n",
    "print('very convenient!')"
   ]
  },
  {
   "cell_type": "code",
   "execution_count": 16,
   "id": "a668be6d",
   "metadata": {},
   "outputs": [
    {
     "name": "stdout",
     "output_type": "stream",
     "text": [
      "3*y**2 + exp(x)*cos(y)\n",
      "exp(x)*sin(y)\n",
      "very convenient!\n"
     ]
    }
   ],
   "source": [
    "#let's start with (a)\n",
    "import sympy as sp\n",
    "import numpy as np\n",
    "import matplotlib.pyplot as plt\n",
    "\n",
    "x, y = sp.symbols('x y')\n",
    "\n",
    "#define function\n",
    "f = sp.exp(x)*sp.sin(y) + y**3\n",
    "\n",
    "# Differentiate f with respect to x\n",
    "df_dx = sp.diff(f, x)\n",
    "\n",
    "# Differentiate f with respect to y\n",
    "df_dy = sp.diff(f, y)\n",
    "\n",
    "print(df_dy)\n",
    "print(df_dx)\n",
    "print('very convenient!')"
   ]
  },
  {
   "cell_type": "code",
   "execution_count": 23,
   "id": "2cb9010d",
   "metadata": {},
   "outputs": [
    {
     "name": "stdout",
     "output_type": "stream",
     "text": [
      "exp(x)*sin(y) 3*y**2 + exp(x)*cos(y)\n"
     ]
    }
   ],
   "source": [
    "# for b, we combined what is found here and in last assignment\n",
    "\n",
    "x, y = sp.symbols('x y')\n",
    "\n",
    "#define function\n",
    "g = (x**2)*(y) + x*(y**2)\n",
    "\n",
    "\n",
    "# Differentiate f with respect to x\n",
    "df_dx = sp.diff(f, x)\n",
    "\n",
    "# Differentiate f with respect to y\n",
    "df_dy = sp.diff(f, y)\n",
    "\n",
    "# gradient is just = (der. w respect to x, der. w respect to y)\n",
    "def calculate_gradient(x, y):\n",
    "    return df_dx, df_dy\n",
    "\n",
    "\n",
    "\n",
    "print(df_dx, df_dy)\n"
   ]
  },
  {
   "cell_type": "code",
   "execution_count": 27,
   "id": "02b0b763",
   "metadata": {},
   "outputs": [
    {
     "name": "stdout",
     "output_type": "stream",
     "text": [
      "The answer to b is:\n",
      "(-E*sin(1), E*cos(1) + 3)\n"
     ]
    }
   ],
   "source": [
    "#manually input numbers (bc I don't know how to do so otherwise)\n",
    "\n",
    "g = sp.exp(1)*sp.sin(-1), 3*(-1)**2 + sp.exp(1)*sp.cos(-1)\n",
    "\n",
    "print('The answer to b is:')\n",
    "print(g)"
   ]
  },
  {
   "cell_type": "code",
   "execution_count": 33,
   "id": "169c0def",
   "metadata": {},
   "outputs": [
    {
     "name": "stdout",
     "output_type": "stream",
     "text": [
      "first partial derivatives are:\n",
      "2*y/(x**2 + y**2)\n",
      "2*x/(x**2 + y**2)\n",
      "\n",
      "the second partial derivatives are:\n",
      "\n",
      "Hxx is:\n",
      "-4*x**2/(x**2 + y**2)**2 + 2/(x**2 + y**2)\n",
      "\n",
      "Hyy is:\n",
      "-4*y**2/(x**2 + y**2)**2 + 2/(x**2 + y**2)\n",
      "\n",
      "Hxy is:\n",
      "-4*x*y/(x**2 + y**2)**2\n"
     ]
    }
   ],
   "source": [
    "# for c, we just have to repeat the steps done in (a) in the correct order\n",
    "\n",
    "#define function\n",
    "h = sp.log(x**2 + y**2)\n",
    "\n",
    "\n",
    "# Differentiate h with respect to x\n",
    "df_dx = sp.diff(h, x)\n",
    "\n",
    "# Differentiate h with respect to y\n",
    "df_dy = sp.diff(h, y)\n",
    "\n",
    "print('first partial derivatives are:')\n",
    "print(df_dy)\n",
    "print(df_dx)\n",
    "print()\n",
    "\n",
    "\n",
    "hx = df_dx\n",
    "hy = df_dy\n",
    "\n",
    "# to get Hxx\n",
    "\n",
    "hxx = sp.diff(hx, x)\n",
    "\n",
    "# to get Hyy\n",
    "\n",
    "hyy = sp.diff(hy, y)\n",
    "\n",
    "# to get Hxy\n",
    "\n",
    "hxy = sp.diff(hx, y)\n",
    "\n",
    "print('the second partial derivatives are:')\n",
    "print()\n",
    "print(\"Hxx is:\")\n",
    "print(hxx)\n",
    "print()\n",
    "print(\"Hyy is:\")\n",
    "print(hyy)\n",
    "print()\n",
    "print(\"Hxy is:\")\n",
    "print(hxy)\n"
   ]
  },
  {
   "cell_type": "code",
   "execution_count": 37,
   "id": "e9c87f87",
   "metadata": {},
   "outputs": [
    {
     "name": "stdout",
     "output_type": "stream",
     "text": [
      "first partial derivatives are:\n",
      "-x*(x**3 - y**2)/(x*y + 1)**2 - 2*y/(x*y + 1)\n",
      "3*x**2/(x*y + 1) - y*(x**3 - y**2)/(x*y + 1)**2\n",
      "\n",
      "the second partial derivatives are:\n",
      "\n",
      "Hxx is:\n",
      "-3*x**3/(x*y + 1)**2 + 2*x*y*(x**3 - y**2)/(x*y + 1)**3 + 2*y**2/(x*y + 1)**2 - (x**3 - y**2)/(x*y + 1)**2\n",
      "\n",
      "Hyy is:\n",
      "-3*x**3/(x*y + 1)**2 + 2*x*y*(x**3 - y**2)/(x*y + 1)**3 + 2*y**2/(x*y + 1)**2 - (x**3 - y**2)/(x*y + 1)**2\n",
      "\n",
      "Hxy is (this is actually hyy):\n",
      "2*x**2*(x**3 - y**2)/(x*y + 1)**3 + 4*x*y/(x*y + 1)**2 - 2/(x*y + 1)\n"
     ]
    }
   ],
   "source": [
    "h = ((x**3) - (y**2))/ ((x*y + 1))\n",
    "\n",
    "# Differentiate h with respect to x ---> Fy\n",
    "df_dx = sp.diff(h, x)\n",
    "\n",
    "# Differentiate h with respect to y ---> Fx\n",
    "df_dy = sp.diff(h, y)\n",
    "\n",
    "print('first partial derivatives are:')\n",
    "print(df_dy)\n",
    "print(df_dx)\n",
    "print()\n",
    "\n",
    "\n",
    "hx = df_dy\n",
    "hy = df_dx\n",
    "\n",
    "# to get Hxx\n",
    "\n",
    "hxx = sp.diff(hx, x)\n",
    "\n",
    "# to get Hyy\n",
    "\n",
    "hyy = sp.diff(hy, y)\n",
    "\n",
    "# to get Hxy\n",
    "\n",
    "hxy = sp.diff(hx, y)\n",
    "\n",
    "print('the second partial derivatives are:')\n",
    "print()\n",
    "print(\"Hxx is:\")\n",
    "print(hxx)\n",
    "print()\n",
    "print(\"Hyy is:\")\n",
    "print(hyy)\n",
    "print()\n",
    "print(\"Hxy is (this is actually hyy):\")\n",
    "print(hxy)"
   ]
  },
  {
   "cell_type": "code",
   "execution_count": null,
   "id": "965d946e",
   "metadata": {},
   "outputs": [],
   "source": []
  },
  {
   "cell_type": "code",
   "execution_count": 8,
   "id": "5261447c",
   "metadata": {},
   "outputs": [
    {
     "data": {
      "image/png": "[encoded data removed]",
      "text/plain": [
       "<Figure size 640x480 with 2 Axes>"
      ]
     },
     "metadata": {},
     "output_type": "display_data"
    }
   ],
   "source": [
    "\n",
    "#for d,plug in provided code\n",
    "import sympy as sp\n",
    "import numpy as np\n",
    "import matplotlib.pyplot as plt\n",
    "\n",
    "x, y = sp.symbols('x y')\n",
    "j = x**3 - 3*x*y + y**3\n",
    "\n",
    "\n",
    "j_func = sp.lambdify((x, y), j, 'numpy')\n",
    "\n",
    "x_vals = np.linspace(-3, 3, 400)\n",
    "y_vals = np.linspace(-3, 3, 400)\n",
    "X, Y = np.meshgrid(x_vals, y_vals)\n",
    "Z = j_func(X, Y)\n",
    "\n",
    "\n",
    "plt.contourf(X, Y, Z, levels=50, cmap='viridis')\n",
    "plt.colorbar()\n",
    "plt.title('Contour plot of $j(x, y) = x^3 - 3xy + y^3$')\n",
    "plt.xlabel('$x$')\n",
    "plt.ylabel('$y$')\n",
    "plt.show()\n"
   ]
  },
  {
   "cell_type": "code",
   "execution_count": 10,
   "id": "29946988",
   "metadata": {},
   "outputs": [
    {
     "data": {
      "image/png": "[encoded data removed]",
      "text/plain": [
       "<Figure size 640x480 with 2 Axes>"
      ]
     },
     "metadata": {},
     "output_type": "display_data"
    }
   ],
   "source": [
    "#for e, alter code and change the function\n",
    "\n",
    "import sympy as sp\n",
    "import numpy as np\n",
    "import matplotlib.pyplot as plt\n",
    "\n",
    "x, y = sp.symbols('x y')\n",
    "j = x**7 - 2*x*y + y**4\n",
    "\n",
    "\n",
    "j_func = sp.lambdify((x, y), j, 'numpy')\n",
    "\n",
    "x_vals = np.linspace(-3, 3, 400)\n",
    "y_vals = np.linspace(-3, 3, 400)\n",
    "X, Y = np.meshgrid(x_vals, y_vals)\n",
    "Z = j_func(X, Y)\n",
    "\n",
    "\n",
    "plt.contourf(X, Y, Z, levels=50, cmap='viridis')\n",
    "plt.colorbar()\n",
    "plt.title('Contour plot of $j(x, y) = x^3 - 3xy + y^3$')\n",
    "plt.xlabel('$x$')\n",
    "plt.ylabel('$y$')\n",
    "plt.show()"
   ]
  },
  {
   "cell_type": "code",
   "execution_count": null,
   "id": "44775bb2",
   "metadata": {},
   "outputs": [],
   "source": []
  }
 ],
 "metadata": {
  "kernelspec": {
   "display_name": "Python 3 (ipykernel)",
   "language": "python",
   "name": "python3"
  },
  "language_info": {
   "codemirror_mode": {
    "name": "ipython",
    "version": 3
   },
   "file_extension": ".py",
   "mimetype": "text/x-python",
   "name": "python",
   "nbconvert_exporter": "python",
   "pygments_lexer": "ipython3",
   "version": "3.11.4"
  }
 },
 "nbformat": 4,
 "nbformat_minor": 5
}
