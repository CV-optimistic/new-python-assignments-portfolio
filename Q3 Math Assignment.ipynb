{
 "cells": [
  {
   "cell_type": "code",
   "execution_count": 76,
   "id": "3137e95c",
   "metadata": {},
   "outputs": [],
   "source": [
    "import numpy as np\n",
    "def funny(x):\n",
    "    if x <=-1:\n",
    "        return 0\n",
    "    elif x >=1:\n",
    "        return 0\n",
    "    else:\n",
    "        return np.exp(1-(1/(1-x**(10**250))))"
   ]
  },
  {
   "cell_type": "code",
   "execution_count": 77,
   "id": "01a152c6",
   "metadata": {},
   "outputs": [
    {
     "data": {
      "text/plain": [
       "1.0"
      ]
     },
     "execution_count": 77,
     "metadata": {},
     "output_type": "execute_result"
    }
   ],
   "source": [
    "funny(0.999999)"
   ]
  },
  {
   "cell_type": "code",
   "execution_count": 9,
   "id": "a6c35b1c",
   "metadata": {},
   "outputs": [
    {
     "data": {
      "text/plain": [
       "0"
      ]
     },
     "execution_count": 9,
     "metadata": {},
     "output_type": "execute_result"
    }
   ],
   "source": [
    "funny(1)"
   ]
  },
  {
   "cell_type": "code",
   "execution_count": 10,
   "id": "4ae78edc",
   "metadata": {},
   "outputs": [
    {
     "data": {
      "text/plain": [
       "1.0"
      ]
     },
     "execution_count": 10,
     "metadata": {},
     "output_type": "execute_result"
    }
   ],
   "source": [
    "funny(0.123456789)"
   ]
  },
  {
   "cell_type": "code",
   "execution_count": 11,
   "id": "0c36ec44",
   "metadata": {},
   "outputs": [
    {
     "data": {
      "text/plain": [
       "1.0"
      ]
     },
     "execution_count": 11,
     "metadata": {},
     "output_type": "execute_result"
    }
   ],
   "source": [
    "funny(0.9140192840603496303496869306)"
   ]
  },
  {
   "cell_type": "code",
   "execution_count": 65,
   "id": "9acfaa0f",
   "metadata": {},
   "outputs": [],
   "source": [
    "def roots(func, a, b, N):\n",
    "    if func(a)*func(b) >=0:\n",
    "        print (\"roots for funcs with both a and b holding the same sign are not allowed\")\n",
    "        return None\n",
    "    \n",
    "    high_value = b\n",
    "    low_value = a\n",
    "    for n in range(1, N+1):\n",
    "        mp = (a + b)/2\n",
    "        if func(a)*func(mp) < 0:\n",
    "            b = mp\n",
    "            a = a\n",
    "        \n",
    "        elif func(b)*func(mp) < 0:\n",
    "            a = mp\n",
    "            b = b\n",
    "            \n",
    "    return (a + b)/2    "
   ]
  },
  {
   "cell_type": "code",
   "execution_count": 78,
   "id": "0550c514",
   "metadata": {},
   "outputs": [
    {
     "name": "stdout",
     "output_type": "stream",
     "text": [
      "For Test Case 1:\n",
      "0.2705078125\n"
     ]
    },
    {
     "name": "stderr",
     "output_type": "stream",
     "text": [
      "C:\\Users\\chich\\AppData\\Local\\Temp\\ipykernel_3992\\1003488644.py:4: RuntimeWarning: divide by zero encountered in log\n",
      "  func = lambda x: math.exp(x) + np.log(x)\n"
     ]
    }
   ],
   "source": [
    "print(\"For Test Case 1:\")\n",
    "import math\n",
    "import numpy as np\n",
    "func = lambda x: math.exp(x) + np.log(x)\n",
    "bisection = roots(func, 0, 1, 9)\n",
    "print(bisection)"
   ]
  },
  {
   "cell_type": "raw",
   "id": "af9371ac",
   "metadata": {},
   "source": []
  },
  {
   "cell_type": "code",
   "execution_count": 70,
   "id": "9487611a",
   "metadata": {},
   "outputs": [
    {
     "name": "stdout",
     "output_type": "stream",
     "text": [
      "For Test Case 2:\n",
      "roots for funcs with both a and b holding the same sign are not allowed\n",
      "None\n"
     ]
    }
   ],
   "source": [
    "print(\"For Test Case 2:\")\n",
    "import math\n",
    "func = lambda x: math.atan(x) - x**2\n",
    "bisection = roots(func, 0, 2, 9)\n",
    "print (bisection)"
   ]
  },
  {
   "cell_type": "code",
   "execution_count": 73,
   "id": "1a3fe02a",
   "metadata": {},
   "outputs": [
    {
     "name": "stdout",
     "output_type": "stream",
     "text": [
      "For Test Case 3:\n",
      "3.1416015625\n"
     ]
    }
   ],
   "source": [
    "print(\"For Test Case 3:\")\n",
    "import math\n",
    "func = lambda x: math.sin(x)/np.log(x)\n",
    "bisection = roots (func, 3, 4, 9)\n",
    "print (bisection)"
   ]
  },
  {
   "cell_type": "code",
   "execution_count": 75,
   "id": "b4add2ba",
   "metadata": {},
   "outputs": [
    {
     "name": "stdout",
     "output_type": "stream",
     "text": [
      "For Test Case 4:\n",
      "roots for funcs with both a and b holding the same sign are not allowed\n",
      "None\n"
     ]
    }
   ],
   "source": [
    "print(\"For Test Case 4:\")\n",
    "import math\n",
    "func = lambda x: np.log(math.cos(x))\n",
    "bisection = roots (func, 5, 7, 9)\n",
    "print(bisection)"
   ]
  },
  {
   "cell_type": "code",
   "execution_count": null,
   "id": "e7ea9794",
   "metadata": {},
   "outputs": [],
   "source": []
  }
 ],
 "metadata": {
  "kernelspec": {
   "display_name": "Python 3 (ipykernel)",
   "language": "python",
   "name": "python3"
  },
  "language_info": {
   "codemirror_mode": {
    "name": "ipython",
    "version": 3
   },
   "file_extension": ".py",
   "mimetype": "text/x-python",
   "name": "python",
   "nbconvert_exporter": "python",
   "pygments_lexer": "ipython3",
   "version": "3.11.4"
  }
 },
 "nbformat": 4,
 "nbformat_minor": 5
}
