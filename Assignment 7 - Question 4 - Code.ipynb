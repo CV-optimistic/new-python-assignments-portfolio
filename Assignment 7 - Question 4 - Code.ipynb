{
 "cells": [
  {
   "cell_type": "code",
   "execution_count": 47,
   "id": "122f6c1d",
   "metadata": {},
   "outputs": [
    {
     "ename": "NameError",
     "evalue": "name 't0' is not defined",
     "output_type": "error",
     "traceback": [
      "\u001b[1;31m---------------------------------------------------------------------------\u001b[0m",
      "\u001b[1;31mNameError\u001b[0m                                 Traceback (most recent call last)",
      "Cell \u001b[1;32mIn[47], line 64\u001b[0m\n\u001b[0;32m     61\u001b[0m     \u001b[38;5;28;01melse\u001b[39;00m:\n\u001b[0;32m     62\u001b[0m         \u001b[38;5;28;01mreturn\u001b[39;00m \u001b[38;5;28;01mFalse\u001b[39;00m\n\u001b[1;32m---> 64\u001b[0m \u001b[38;5;28mprint\u001b[39m(delta_t())\n",
      "Cell \u001b[1;32mIn[47], line 59\u001b[0m, in \u001b[0;36mdelta_t\u001b[1;34m()\u001b[0m\n\u001b[0;32m     57\u001b[0m \u001b[38;5;28;01mdef\u001b[39;00m \u001b[38;5;21mdelta_t\u001b[39m():\n\u001b[0;32m     58\u001b[0m     t_star \u001b[38;5;241m=\u001b[39m \u001b[38;5;241m2.2522252225222523\u001b[39m \u001b[38;5;66;03m#calculated t-star value\u001b[39;00m\n\u001b[1;32m---> 59\u001b[0m     \u001b[38;5;28;01mif\u001b[39;00m(\u001b[38;5;241m-\u001b[39mt_star \u001b[38;5;241m<\u001b[39m\u001b[38;5;241m=\u001b[39m t0 \u001b[38;5;241m<\u001b[39m\u001b[38;5;241m=\u001b[39m t_star):\n\u001b[0;32m     60\u001b[0m         \u001b[38;5;28;01mreturn\u001b[39;00m \u001b[38;5;28;01mTrue\u001b[39;00m\n\u001b[0;32m     61\u001b[0m     \u001b[38;5;28;01melse\u001b[39;00m:\n",
      "\u001b[1;31mNameError\u001b[0m: name 't0' is not defined"
     ]
    }
   ],
   "source": [
    "import numpy as np\n",
    "from scipy.special import gamma\n",
    "def t_distribution_pdf(x, nu):\n",
    "    \"\"\"\n",
    "    Compute the probability density of the t-distribution\n",
    "    at a given point x with nu degrees of freedom.\n",
    "    Parameters:\n",
    "    x (float): The point at which to evaluate the density.\n",
    "    nu (int): The degrees of freedom of the t-distribution.\n",
    "    Returns:\n",
    "    density (float): The probability density at point x for\n",
    "    the t-distribution with nu degrees of freedom.\n",
    "    \"\"\"\n",
    "    coeff = gamma((nu + 1) / 2) / (np.sqrt(nu * np.pi) * gamma(nu / 2))\n",
    "    density = coeff * (1 + x**2 / nu) ** (-0.5 * (nu + 1))\n",
    "    return density\n",
    "\n",
    "#question (i)\n",
    "test_scores = [92.64,79.00,84.79,97.41,93.68,65.23,84.50,73.49,73.97,79.11]\n",
    "global standard_cal\n",
    "#calculation the standard_arithemtic\n",
    "def standard_arithmetic():\n",
    "    n = 10 #manually counted of the test_scores \n",
    "    mean_cal = sum(test_scores) / len(test_scores) #the mean calculation\n",
    "    for (i) in range(1,n): #for the summation\n",
    "        standard_cal = (np.sqrt((1)/(len(test_scores)-1)(test_scores[i-1]-(mean_cal))**2)) #standard deviation calculation\n",
    "        return standard_cal\n",
    "    return mean_cal\n",
    "\n",
    "\n",
    "#question (ii)\n",
    "mu0 = 75 \n",
    "certainty = 0.95\n",
    "def value_of_t_cal(mean, std, n, mu0):\n",
    "    global standard_cal\n",
    "    n = 10 #manually counted of the test_scores\n",
    "    t0 = (mean_cal - mu0)/ (standard_cal/ (n)**0.5) #to calculated the t0\n",
    "    return t0\n",
    "\n",
    "#question (iii)\n",
    "def find_t_star(prob, nu, x_start=0, x_end=20, num_points=10000):\n",
    "\n",
    "    # Define the x values\n",
    "    x = np.linspace(x_start, x_end, num_points)\n",
    "    # Apply the density function to the x values\n",
    "    y = t_distribution_pdf(x, nu)\n",
    "    # This next line is the integration (exercise: why does this work?)\n",
    "    cdf = np.cumsum(y) * (x[1] - x[0])\n",
    "    # Find the t-value where the cumulative probability reaches half of the required probability\n",
    "    target_half_prob = prob / 2\n",
    "    index = np.where(cdf >= target_half_prob)[0][0]\n",
    "    return x[index]\n",
    "\n",
    "\n",
    "#question (iv)\n",
    "#to find if t0 was in the interval of -t_star to _t_star\n",
    "def delta_t():\n",
    "    t_star = 2.2522252225222523 #calculated t-star value\n",
    "    if(-t_star <= t0 <= t_star):\n",
    "        return True\n",
    "    else:\n",
    "        return False\n",
    "\n",
    "print(delta_t())"
   ]
  },
  {
   "cell_type": "code",
   "execution_count": 42,
   "id": "c853cbe4",
   "metadata": {},
   "outputs": [
    {
     "name": "stdout",
     "output_type": "stream",
     "text": [
      "2.2522252225222523\n"
     ]
    }
   ],
   "source": [
    "\n",
    "prob = 0.95\n",
    "nu = n-1\n",
    "\n",
    "def find_t_star(prob, nu, x_start=0, x_end=20, num_points=10000):\n",
    "    # Define the x values\n",
    "    x = np.linspace(x_start, x_end, num_points)\n",
    "    # Apply the density function to the x values\n",
    "    y = t_distribution_pdf(x, nu)\n",
    "    # This next line is the integration (exercise: why does this work?)\n",
    "    cdf = np.cumsum(y) * (x[1] - x[0])\n",
    "    # Find the t-value where the cumulative probability reaches half of the required probability\n",
    "    target_half_prob = prob / 2\n",
    "    index = np.where(cdf >= target_half_prob)[0][0]\n",
    "    return x[index]\n",
    "\n",
    "print(find_t_star(prob, nu, x_start=0, x_end=20, num_points=10000))\n"
   ]
  },
  {
   "cell_type": "code",
   "execution_count": null,
   "id": "f3a0fe9c",
   "metadata": {},
   "outputs": [],
   "source": []
  }
 ],
 "metadata": {
  "kernelspec": {
   "display_name": "Python 3 (ipykernel)",
   "language": "python",
   "name": "python3"
  },
  "language_info": {
   "codemirror_mode": {
    "name": "ipython",
    "version": 3
   },
   "file_extension": ".py",
   "mimetype": "text/x-python",
   "name": "python",
   "nbconvert_exporter": "python",
   "pygments_lexer": "ipython3",
   "version": "3.11.4"
  }
 },
 "nbformat": 4,
 "nbformat_minor": 5
}
