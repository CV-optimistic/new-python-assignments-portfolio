{
 "cells": [
  {
   "cell_type": "code",
   "execution_count": 3,
   "id": "3f674cd3",
   "metadata": {},
   "outputs": [],
   "source": [
    "def greg (x):\n",
    "    n=0\n",
    "    a=0\n",
    "    error_bound = (x**(2*n+1)/(2*n+1))\n",
    "    if 0 <= x <=1:\n",
    "        while error_bound > 0.0001:\n",
    "            n+= 1\n",
    "            error_bound = (x**(2*n+1)/(2*n+1))\n",
    "        for(i) in range(0,n-1):\n",
    "            a+=((-1)**i*x**(2*i+1)/(2*i+1))\n",
    "        power_n=(2*n+1)\n",
    "        return (a, power_n, error_bound)\n",
    "    \n",
    "    else:\n",
    "        print(\"Error!\")\n",
    "            "
   ]
  },
  {
   "cell_type": "code",
   "execution_count": 4,
   "id": "18b7f225",
   "metadata": {},
   "outputs": [
    {
     "name": "stdout",
     "output_type": "stream",
     "text": [
      "Error!\n"
     ]
    }
   ],
   "source": [
    "greg(-1)"
   ]
  },
  {
   "cell_type": "code",
   "execution_count": 5,
   "id": "fd6b404a",
   "metadata": {},
   "outputs": [
    {
     "data": {
      "text/plain": [
       "(0, 1, 0.0)"
      ]
     },
     "execution_count": 5,
     "metadata": {},
     "output_type": "execute_result"
    }
   ],
   "source": [
    "greg(0)"
   ]
  },
  {
   "cell_type": "code",
   "execution_count": 6,
   "id": "395f129b",
   "metadata": {},
   "outputs": [
    {
     "data": {
      "text/plain": [
       "(0.24479166666666666, 7, 8.719308035714285e-06)"
      ]
     },
     "execution_count": 6,
     "metadata": {},
     "output_type": "execute_result"
    }
   ],
   "source": [
    "greg(0.25)"
   ]
  },
  {
   "cell_type": "code",
   "execution_count": 7,
   "id": "0348ae46",
   "metadata": {},
   "outputs": [
    {
     "data": {
      "text/plain": [
       "(0.46346726190476184, 11, 4.438920454545455e-05)"
      ]
     },
     "execution_count": 7,
     "metadata": {},
     "output_type": "execute_result"
    }
   ],
   "source": [
    "greg(0.5)"
   ]
  },
  {
   "cell_type": "code",
   "execution_count": 8,
   "id": "cd1b799c",
   "metadata": {},
   "outputs": [
    {
     "data": {
      "text/plain": [
       "(0.6434262125251309, 23, 5.816761029294689e-05)"
      ]
     },
     "execution_count": 8,
     "metadata": {},
     "output_type": "execute_result"
    }
   ],
   "source": [
    "greg(0.75)"
   ]
  },
  {
   "cell_type": "code",
   "execution_count": 9,
   "id": "5c9c475b",
   "metadata": {},
   "outputs": [
    {
     "data": {
      "text/plain": [
       "(0.7854481733989479, 10001, 9.999000099990002e-05)"
      ]
     },
     "execution_count": 9,
     "metadata": {},
     "output_type": "execute_result"
    }
   ],
   "source": [
    "greg(1)"
   ]
  },
  {
   "cell_type": "code",
   "execution_count": null,
   "id": "63835ee7",
   "metadata": {},
   "outputs": [],
   "source": []
  }
 ],
 "metadata": {
  "kernelspec": {
   "display_name": "Python 3 (ipykernel)",
   "language": "python",
   "name": "python3"
  },
  "language_info": {
   "codemirror_mode": {
    "name": "ipython",
    "version": 3
   },
   "file_extension": ".py",
   "mimetype": "text/x-python",
   "name": "python",
   "nbconvert_exporter": "python",
   "pygments_lexer": "ipython3",
   "version": "3.11.4"
  }
 },
 "nbformat": 4,
 "nbformat_minor": 5
}
