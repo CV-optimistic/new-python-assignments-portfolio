{
 "cells": [
  {
   "cell_type": "code",
   "execution_count": 59,
   "id": "84e8281f",
   "metadata": {},
   "outputs": [],
   "source": [
    "import math\n",
    "def greg(f,c,E):\n",
    "\n",
    "    c=0\n",
    "    n=100\n",
    "    x1=c\n",
    "    x2=c\n",
    "\n",
    "    delx=10**(-8)\n",
    "    d=0.001\n",
    "\n",
    "    def fPRIME(x):\n",
    "        return (f(x+delx)-f(x-delx))/(2*delx)\n",
    "    def L(x):\n",
    "        return f(c)+fPRIME(c)*(x-c)\n",
    "    \n",
    "    \n",
    "    for i in range(n):\n",
    "        x1-=d\n",
    "        if abs(f(x1)-L(x1)) <= E:\n",
    "            break\n",
    "    if abs(f(x1)-L(x1)) <= E:\n",
    "        print(x1)\n",
    "    else:\n",
    "        print (\"An x1 value cannot be found\")\n",
    "        \n",
    "    for i in range(n):\n",
    "        x2+=d\n",
    "        if abs(f(x2)-L(x2)) <=E:\n",
    "            break\n",
    "    if abs(f(x2)-L(x2)) <=E:\n",
    "        print(x2)\n",
    "    else:\n",
    "        print(\"An x2 value cannot be found\")"
   ]
  },
  {
   "cell_type": "code",
   "execution_count": 60,
   "id": "1cbeda84",
   "metadata": {},
   "outputs": [],
   "source": [
    "import math\n",
    "def func(x):\n",
    "    return math.exp(x)"
   ]
  },
  {
   "cell_type": "code",
   "execution_count": 61,
   "id": "ee914cdd",
   "metadata": {},
   "outputs": [
    {
     "name": "stdout",
     "output_type": "stream",
     "text": [
      "Test 3\n",
      "-0.001\n",
      "0.001\n"
     ]
    }
   ],
   "source": [
    "print (\"Test 3\")\n",
    "greg(func,0,0.01)"
   ]
  },
  {
   "cell_type": "code",
   "execution_count": 4,
   "id": "627c58ae",
   "metadata": {},
   "outputs": [],
   "source": [
    "import math\n",
    "def greg(f,c,E):\n",
    "\n",
    "    c=np.pi/4\n",
    "    n=100\n",
    "    x1=c\n",
    "    x2=c\n",
    "\n",
    "    delx=10**(-8)\n",
    "    d=0.001\n",
    "\n",
    "    def fPRIME(x):\n",
    "        return (f(x+delx)-f(x-delx))/(2*delx)\n",
    "    def L(x):\n",
    "        return f(c)+fPRIME(c)*(x-c)\n",
    "    \n",
    "    \n",
    "    for i in range(n):\n",
    "        x1-=d\n",
    "        if abs(f(x1)-L(x1)) <= E:\n",
    "            break\n",
    "    if abs(f(x1)-L(x1)) <= E:\n",
    "        print(x1)\n",
    "    else:\n",
    "        print (\"An x1 value cannot be found\")\n",
    "        \n",
    "    for i in range(n):\n",
    "        x2+=d\n",
    "        if abs(f(x2)-L(x2)) <=E:\n",
    "            break\n",
    "    if abs(f(x2)-L(x2)) <=E:\n",
    "        print(x2)\n",
    "    else:\n",
    "        print(\"An x2 value cannot be found\")"
   ]
  },
  {
   "cell_type": "code",
   "execution_count": 5,
   "id": "88520d84",
   "metadata": {},
   "outputs": [],
   "source": [
    "import numpy as np\n",
    "def func(x):\n",
    "    return np.sin(x)"
   ]
  },
  {
   "cell_type": "code",
   "execution_count": 6,
   "id": "90d44d14",
   "metadata": {},
   "outputs": [
    {
     "name": "stdout",
     "output_type": "stream",
     "text": [
      "Test 2\n",
      "0.7843981633974483\n",
      "0.7863981633974483\n"
     ]
    }
   ],
   "source": [
    "print('Test 2')\n",
    "greg(func,np.pi/4, 0.05)"
   ]
  },
  {
   "cell_type": "code",
   "execution_count": null,
   "id": "20bd043e",
   "metadata": {},
   "outputs": [],
   "source": []
  }
 ],
 "metadata": {
  "kernelspec": {
   "display_name": "Python 3 (ipykernel)",
   "language": "python",
   "name": "python3"
  },
  "language_info": {
   "codemirror_mode": {
    "name": "ipython",
    "version": 3
   },
   "file_extension": ".py",
   "mimetype": "text/x-python",
   "name": "python",
   "nbconvert_exporter": "python",
   "pygments_lexer": "ipython3",
   "version": "3.11.4"
  }
 },
 "nbformat": 4,
 "nbformat_minor": 5
}
